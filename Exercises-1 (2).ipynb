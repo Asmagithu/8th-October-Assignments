{
 "cells": [
  {
   "cell_type": "code",
   "execution_count": 1,
   "metadata": {},
   "outputs": [],
   "source": [
    "import pandas as pd"
   ]
  },
  {
   "cell_type": "code",
   "execution_count": 4,
   "metadata": {},
   "outputs": [
    {
     "data": {
      "text/html": [
       "<div style=\"max-height:1000px;max-width:1500px;overflow:auto;\">\n",
       "<table border=\"1\" class=\"dataframe\">\n",
       "  <thead>\n",
       "    <tr style=\"text-align: right;\">\n",
       "      <th></th>\n",
       "      <th>title</th>\n",
       "      <th>year</th>\n",
       "      <th>name</th>\n",
       "      <th>type</th>\n",
       "      <th>character</th>\n",
       "      <th>n</th>\n",
       "    </tr>\n",
       "  </thead>\n",
       "  <tbody>\n",
       "    <tr>\n",
       "      <th>0</th>\n",
       "      <td>The Core</td>\n",
       "      <td>2003</td>\n",
       "      <td>Alejandro Abellan</td>\n",
       "      <td>actor</td>\n",
       "      <td>U.S.S. Soldier</td>\n",
       "      <td>NaN</td>\n",
       "    </tr>\n",
       "    <tr>\n",
       "      <th>1</th>\n",
       "      <td>Il momento di uccidere</td>\n",
       "      <td>1968</td>\n",
       "      <td>Remo De Angelis</td>\n",
       "      <td>actor</td>\n",
       "      <td>Dago</td>\n",
       "      <td>9</td>\n",
       "    </tr>\n",
       "    <tr>\n",
       "      <th>2</th>\n",
       "      <td>Across the Divide</td>\n",
       "      <td>1921</td>\n",
       "      <td>Thomas Delmar</td>\n",
       "      <td>actor</td>\n",
       "      <td>Dago</td>\n",
       "      <td>4</td>\n",
       "    </tr>\n",
       "    <tr>\n",
       "      <th>3</th>\n",
       "      <td>Revan</td>\n",
       "      <td>2012</td>\n",
       "      <td>Diego James</td>\n",
       "      <td>actor</td>\n",
       "      <td>Dago</td>\n",
       "      <td>NaN</td>\n",
       "    </tr>\n",
       "    <tr>\n",
       "      <th>4</th>\n",
       "      <td>Un homme marche dans la ville</td>\n",
       "      <td>1950</td>\n",
       "      <td>Fabien Loris</td>\n",
       "      <td>actor</td>\n",
       "      <td>Dago</td>\n",
       "      <td>12</td>\n",
       "    </tr>\n",
       "  </tbody>\n",
       "</table>\n",
       "</div>"
      ],
      "text/plain": [
       "                           title  year               name   type  \\\n",
       "0                       The Core  2003  Alejandro Abellan  actor   \n",
       "1         Il momento di uccidere  1968    Remo De Angelis  actor   \n",
       "2              Across the Divide  1921      Thomas Delmar  actor   \n",
       "3                          Revan  2012        Diego James  actor   \n",
       "4  Un homme marche dans la ville  1950       Fabien Loris  actor   \n",
       "\n",
       "        character   n  \n",
       "0  U.S.S. Soldier NaN  \n",
       "1            Dago   9  \n",
       "2            Dago   4  \n",
       "3            Dago NaN  \n",
       "4            Dago  12  "
      ]
     },
     "execution_count": 4,
     "metadata": {},
     "output_type": "execute_result"
    }
   ],
   "source": [
    "cast = pd.read_csv('data/cast.csv')\n",
    "cast.head()"
   ]
  },
  {
   "cell_type": "markdown",
   "metadata": {
    "collapsed": true
   },
   "source": [
    "### How many movies are listed in the titles dataframe?"
   ]
  },
  {
   "cell_type": "code",
   "execution_count": 47,
   "metadata": {},
   "outputs": [],
   "source": [
    "import pandas as pd"
   ]
  },
  {
   "cell_type": "code",
   "execution_count": 50,
   "metadata": {},
   "outputs": [
    {
     "data": {
      "text/html": [
       "<div>\n",
       "<style scoped>\n",
       "    .dataframe tbody tr th:only-of-type {\n",
       "        vertical-align: middle;\n",
       "    }\n",
       "\n",
       "    .dataframe tbody tr th {\n",
       "        vertical-align: top;\n",
       "    }\n",
       "\n",
       "    .dataframe thead th {\n",
       "        text-align: right;\n",
       "    }\n",
       "</style>\n",
       "<table border=\"1\" class=\"dataframe\">\n",
       "  <thead>\n",
       "    <tr style=\"text-align: right;\">\n",
       "      <th></th>\n",
       "      <th>title</th>\n",
       "      <th>year</th>\n",
       "      <th>name</th>\n",
       "      <th>type</th>\n",
       "      <th>character</th>\n",
       "      <th>n</th>\n",
       "    </tr>\n",
       "  </thead>\n",
       "  <tbody>\n",
       "    <tr>\n",
       "      <th>0</th>\n",
       "      <td>Closet Monster</td>\n",
       "      <td>2015</td>\n",
       "      <td>Buffy #1</td>\n",
       "      <td>actor</td>\n",
       "      <td>Buffy 4</td>\n",
       "      <td>NaN</td>\n",
       "    </tr>\n",
       "    <tr>\n",
       "      <th>1</th>\n",
       "      <td>Suuri illusioni</td>\n",
       "      <td>1985</td>\n",
       "      <td>Homo $</td>\n",
       "      <td>actor</td>\n",
       "      <td>Guests</td>\n",
       "      <td>22.0</td>\n",
       "    </tr>\n",
       "    <tr>\n",
       "      <th>2</th>\n",
       "      <td>Battle of the Sexes</td>\n",
       "      <td>2017</td>\n",
       "      <td>$hutter</td>\n",
       "      <td>actor</td>\n",
       "      <td>Bobby Riggs Fan</td>\n",
       "      <td>10.0</td>\n",
       "    </tr>\n",
       "    <tr>\n",
       "      <th>3</th>\n",
       "      <td>Secret in Their Eyes</td>\n",
       "      <td>2015</td>\n",
       "      <td>$hutter</td>\n",
       "      <td>actor</td>\n",
       "      <td>2002 Dodger Fan</td>\n",
       "      <td>NaN</td>\n",
       "    </tr>\n",
       "    <tr>\n",
       "      <th>4</th>\n",
       "      <td>Steve Jobs</td>\n",
       "      <td>2015</td>\n",
       "      <td>$hutter</td>\n",
       "      <td>actor</td>\n",
       "      <td>1988 Opera House Patron</td>\n",
       "      <td>NaN</td>\n",
       "    </tr>\n",
       "  </tbody>\n",
       "</table>\n",
       "</div>"
      ],
      "text/plain": [
       "                  title  year      name   type                character     n\n",
       "0        Closet Monster  2015  Buffy #1  actor                  Buffy 4   NaN\n",
       "1       Suuri illusioni  1985    Homo $  actor                   Guests  22.0\n",
       "2   Battle of the Sexes  2017   $hutter  actor          Bobby Riggs Fan  10.0\n",
       "3  Secret in Their Eyes  2015   $hutter  actor          2002 Dodger Fan   NaN\n",
       "4            Steve Jobs  2015   $hutter  actor  1988 Opera House Patron   NaN"
      ]
     },
     "execution_count": 50,
     "metadata": {},
     "output_type": "execute_result"
    }
   ],
   "source": [
    "cast = pd.read_csv('C:/Users/asmam/Downloads/cast.csv')\n",
    "cast.head()"
   ]
  },
  {
   "cell_type": "code",
   "execution_count": 56,
   "metadata": {},
   "outputs": [
    {
     "name": "stdout",
     "output_type": "stream",
     "text": [
      "1048575\n"
     ]
    }
   ],
   "source": [
    "num_movies = len (cast)\n",
    "print (num_movies)"
   ]
  },
  {
   "cell_type": "markdown",
   "metadata": {
    "collapsed": true
   },
   "source": [
    "### How many movies have the title \"Hamlet\"?"
   ]
  },
  {
   "cell_type": "code",
   "execution_count": 59,
   "metadata": {},
   "outputs": [
    {
     "name": "stdout",
     "output_type": "stream",
     "text": [
      "How many movies have the title 'Hamlet'? 113\n"
     ]
    }
   ],
   "source": [
    "# Count the number of movies with the title \"Hamlet\"\n",
    "hamlet_movies = cast[cast['title'] == 'Hamlet']\n",
    "num_hamlet_movies = len(hamlet_movies)\n",
    "print(f\"How many movies have the title 'Hamlet'? {num_hamlet_movies}\")"
   ]
  },
  {
   "cell_type": "markdown",
   "metadata": {
    "collapsed": true
   },
   "source": [
    "### How many movies are titled \"North by Northwest\"?"
   ]
  },
  {
   "cell_type": "code",
   "execution_count": 63,
   "metadata": {},
   "outputs": [
    {
     "name": "stdout",
     "output_type": "stream",
     "text": [
      "How many movies have the title 'North by Northwest'? 41\n"
     ]
    }
   ],
   "source": [
    "# Count the number of movies with the title \"North by Northwest\"\n",
    "North_by_Northwest= cast[cast['title'] == 'North by Northwest']\n",
    "num_North_by_Northwest = len(North_by_Northwest)\n",
    "print(f\"How many movies have the title 'North by Northwest'? {num_North_by_Northwest}\")"
   ]
  },
  {
   "cell_type": "markdown",
   "metadata": {
    "collapsed": true
   },
   "source": [
    "### When was the first movie titled \"Hamlet\" made?"
   ]
  },
  {
   "cell_type": "code",
   "execution_count": 64,
   "metadata": {},
   "outputs": [
    {
     "name": "stdout",
     "output_type": "stream",
     "text": [
      "The first movie titled 'Hamlet' was made in the year 1911.\n"
     ]
    }
   ],
   "source": [
    "hamlet_movies = cast[cast['title'] == 'Hamlet']\n",
    "\n",
    "if not hamlet_movies.empty:\n",
    "    # Sort the filtered DataFrame by the release year\n",
    "    sorted_hamlet_movies = hamlet_movies.sort_values(by='year')\n",
    "\n",
    "    # Get the release year of the first movie titled \"Hamlet\"\n",
    "    first_hamlet_movie_year = sorted_hamlet_movies['year'].iloc[0]\n",
    "\n",
    "    print(f\"The first movie titled 'Hamlet' was made in the year {first_hamlet_movie_year}.\")\n"
   ]
  },
  {
   "cell_type": "markdown",
   "metadata": {
    "collapsed": true
   },
   "source": [
    "### List all of the \"Treasure Island\" movies from earliest to most recent."
   ]
  },
  {
   "cell_type": "code",
   "execution_count": 65,
   "metadata": {},
   "outputs": [
    {
     "name": "stdout",
     "output_type": "stream",
     "text": [
      "List of 'Treasure Island' movies from earliest to most recent:\n",
      "1918 - Treasure Island\n",
      "1918 - Treasure Island\n",
      "1918 - Treasure Island\n",
      "1918 - Treasure Island\n",
      "1920 - Treasure Island\n",
      "1920 - Treasure Island\n",
      "1920 - Treasure Island\n",
      "1920 - Treasure Island\n",
      "1920 - Treasure Island\n",
      "1934 - Treasure Island\n",
      "1934 - Treasure Island\n",
      "1934 - Treasure Island\n",
      "1934 - Treasure Island\n",
      "1934 - Treasure Island\n",
      "1934 - Treasure Island\n",
      "1934 - Treasure Island\n",
      "1934 - Treasure Island\n",
      "1934 - Treasure Island\n",
      "1934 - Treasure Island\n",
      "1934 - Treasure Island\n",
      "1934 - Treasure Island\n",
      "1934 - Treasure Island\n",
      "1934 - Treasure Island\n",
      "1934 - Treasure Island\n",
      "1934 - Treasure Island\n",
      "1934 - Treasure Island\n",
      "1934 - Treasure Island\n",
      "1934 - Treasure Island\n",
      "1934 - Treasure Island\n",
      "1934 - Treasure Island\n",
      "1934 - Treasure Island\n",
      "1934 - Treasure Island\n",
      "1934 - Treasure Island\n",
      "1934 - Treasure Island\n",
      "1934 - Treasure Island\n",
      "1934 - Treasure Island\n",
      "1934 - Treasure Island\n",
      "1950 - Treasure Island\n",
      "1950 - Treasure Island\n",
      "1950 - Treasure Island\n",
      "1950 - Treasure Island\n",
      "1950 - Treasure Island\n",
      "1950 - Treasure Island\n",
      "1950 - Treasure Island\n",
      "1950 - Treasure Island\n",
      "1950 - Treasure Island\n",
      "1950 - Treasure Island\n",
      "1950 - Treasure Island\n",
      "1950 - Treasure Island\n",
      "1950 - Treasure Island\n",
      "1950 - Treasure Island\n",
      "1950 - Treasure Island\n",
      "1950 - Treasure Island\n",
      "1950 - Treasure Island\n",
      "1972 - Treasure Island\n",
      "1972 - Treasure Island\n",
      "1972 - Treasure Island\n",
      "1972 - Treasure Island\n",
      "1972 - Treasure Island\n",
      "1972 - Treasure Island\n",
      "1972 - Treasure Island\n",
      "1972 - Treasure Island\n",
      "1972 - Treasure Island\n",
      "1972 - Treasure Island\n",
      "1972 - Treasure Island\n",
      "1972 - Treasure Island\n",
      "1973 - Treasure Island\n",
      "1985 - Treasure Island\n",
      "1985 - Treasure Island\n",
      "1985 - Treasure Island\n",
      "1985 - Treasure Island\n",
      "1985 - Treasure Island\n",
      "1999 - Treasure Island\n",
      "1999 - Treasure Island\n",
      "1999 - Treasure Island\n",
      "1999 - Treasure Island\n",
      "1999 - Treasure Island\n",
      "1999 - Treasure Island\n",
      "1999 - Treasure Island\n",
      "1999 - Treasure Island\n",
      "1999 - Treasure Island\n"
     ]
    }
   ],
   "source": [
    "treasure_island_movies = cast[cast['title'] == 'Treasure Island']\n",
    "\n",
    "if not treasure_island_movies.empty:\n",
    "    # Sort the filtered DataFrame by the release year\n",
    "    sorted_treasure_island_movies = treasure_island_movies.sort_values(by='year')\n",
    "\n",
    "    # Display the list of \"Treasure Island\" movies from earliest to most recent\n",
    "    print(\"List of 'Treasure Island' movies from earliest to most recent:\")\n",
    "    for index, row in sorted_treasure_island_movies.iterrows():\n",
    "        print(f\"{row['year']} - {row['title']}\")"
   ]
  },
  {
   "cell_type": "markdown",
   "metadata": {
    "collapsed": true
   },
   "source": [
    "### How many movies were made in the year 1950?"
   ]
  },
  {
   "cell_type": "code",
   "execution_count": 66,
   "metadata": {},
   "outputs": [
    {
     "name": "stdout",
     "output_type": "stream",
     "text": [
      "How many movies were made in the year 1950? 7389\n"
     ]
    }
   ],
   "source": [
    "# Filter the DataFrame to find movies made in the year 1950\n",
    "movies_in_1950 = cast[cast['year'] == 1950]\n",
    "\n",
    "# Count the number of movies made in 1950\n",
    "num_movies_in_1950 = len(movies_in_1950)\n",
    "\n",
    "# Print the result\n",
    "print(f\"How many movies were made in the year 1950? {num_movies_in_1950}\")\n"
   ]
  },
  {
   "cell_type": "markdown",
   "metadata": {
    "collapsed": true
   },
   "source": [
    "### How many movies were made in the year 1960?"
   ]
  },
  {
   "cell_type": "code",
   "execution_count": 67,
   "metadata": {},
   "outputs": [
    {
     "name": "stdout",
     "output_type": "stream",
     "text": [
      "How many movies were made in the year 1960? 5608\n"
     ]
    }
   ],
   "source": [
    "# Filter the DataFrame to find movies made in the year 1950\n",
    "movies_in_1960 = cast[cast['year'] == 1960]\n",
    "\n",
    "# Count the number of movies made in 1960\n",
    "num_movies_in_1960 = len(movies_in_1960)\n",
    "\n",
    "# Print the result\n",
    "print(f\"How many movies were made in the year 1960? {num_movies_in_1960}\")\n"
   ]
  },
  {
   "cell_type": "markdown",
   "metadata": {
    "collapsed": true
   },
   "source": [
    "### How many movies were made from 1950 through 1959?"
   ]
  },
  {
   "cell_type": "code",
   "execution_count": 68,
   "metadata": {},
   "outputs": [
    {
     "name": "stdout",
     "output_type": "stream",
     "text": [
      "How many movies were made from 1950 through 1959? 67706\n"
     ]
    }
   ],
   "source": [
    "# Filter the DataFrame to find movies made between 1950 and 1959\n",
    "movies_in_1950s = cast[(cast['year'] >= 1950) & (cast['year'] <= 1959)]\n",
    "\n",
    "# Count the number of movies made in the 1950s\n",
    "num_movies_in_1950s = len(movies_in_1950s)\n",
    "\n",
    "# Print the result\n",
    "print(f\"How many movies were made from 1950 through 1959? {num_movies_in_1950s}\")\n"
   ]
  },
  {
   "cell_type": "markdown",
   "metadata": {
    "collapsed": true
   },
   "source": [
    "### In what years has a movie titled \"Batman\" been released?"
   ]
  },
  {
   "cell_type": "code",
   "execution_count": 69,
   "metadata": {},
   "outputs": [
    {
     "name": "stdout",
     "output_type": "stream",
     "text": [
      "Years in which a movie titled 'Batman' has been released:\n",
      "1943\n",
      "1989\n"
     ]
    }
   ],
   "source": [
    "# Filter the DataFrame to find movies with the title \"Batman\"\n",
    "batman_movies = cast[cast['title'] == 'Batman']\n",
    "\n",
    "if not batman_movies.empty:\n",
    "    # Get unique years of release for \"Batman\" movies\n",
    "    batman_years = batman_movies['year'].unique()\n",
    "# Sort and display the list of years\n",
    "    sorted_batman_years = sorted(batman_years)\n",
    "    print(\"Years in which a movie titled 'Batman' has been released:\")\n",
    "    for year in sorted_batman_years:\n",
    "        print(year)"
   ]
  },
  {
   "cell_type": "markdown",
   "metadata": {
    "collapsed": true
   },
   "source": [
    " How many roles were there in the movie \"Inception\"?"
   ]
  },
  {
   "cell_type": "code",
   "execution_count": 70,
   "metadata": {},
   "outputs": [
    {
     "name": "stdout",
     "output_type": "stream",
     "text": [
      "How many roles were there in the movie 'Inception'? 27\n"
     ]
    }
   ],
   "source": [
    "# Filter the DataFrame to find roles in the movie \"Inception\"\n",
    "inception_roles = cast[cast['title'] == 'Inception']\n",
    "\n",
    "# Count the number of roles in the movie \"Inception\"\n",
    "num_inception_roles = len(inception_roles)\n",
    "\n",
    "# Print the result\n",
    "print(f\"How many roles were there in the movie 'Inception'? {num_inception_roles}\")\n"
   ]
  },
  {
   "cell_type": "markdown",
   "metadata": {
    "collapsed": true
   },
   "source": [
    "### How many roles in the movie \"Inception\" are NOT ranked by an \"n\" value?"
   ]
  },
  {
   "cell_type": "code",
   "execution_count": 71,
   "metadata": {},
   "outputs": [
    {
     "name": "stdout",
     "output_type": "stream",
     "text": [
      "How many roles in the movie 'Inception' are NOT ranked by an 'n' value? 8\n"
     ]
    }
   ],
   "source": [
    "# Filter the DataFrame to find roles in the movie \"Inception\"\n",
    "inception_roles = cast[(cast['title'] == 'Inception') & (cast['n'].isna())]\n",
    "\n",
    "# Count the number of roles in the movie \"Inception\" without an \"n\" value\n",
    "num_inception_roles_without_n_value = len(inception_roles)\n",
    "\n",
    "# Print the result\n",
    "print(f\"How many roles in the movie 'Inception' are NOT ranked by an 'n' value? {num_inception_roles_without_n_value}\")\n"
   ]
  },
  {
   "cell_type": "markdown",
   "metadata": {
    "collapsed": true
   },
   "source": [
    "### But how many roles in the movie \"Inception\" did receive an \"n\" value?"
   ]
  },
  {
   "cell_type": "code",
   "execution_count": 75,
   "metadata": {},
   "outputs": [
    {
     "name": "stdout",
     "output_type": "stream",
     "text": [
      "How many roles in the movie 'Inception' received an 'n' value? 19\n"
     ]
    }
   ],
   "source": [
    "# Filter the DataFrame to find roles in the movie \"Inception\" with an \"n\" value\n",
    "inception_roles_with_n_value = cast[(cast['title'] == 'Inception') & (~cast['n'].isna())]\n",
    "\n",
    "# Count the number of roles in the movie \"Inception\" with an \"n\" value\n",
    "num_inception_roles_with_n_value = len(inception_roles_with_n_value)\n",
    "\n",
    "# Print the result\n",
    "print(f\"How many roles in the movie 'Inception' received an 'n' value? {num_inception_roles_with_n_value}\")\n"
   ]
  },
  {
   "cell_type": "markdown",
   "metadata": {
    "collapsed": true
   },
   "source": [
    "### Display the cast of \"North by Northwest\" in their correct \"n\"-value order, ignoring roles that did not earn a numeric \"n\" value."
   ]
  },
  {
   "cell_type": "code",
   "execution_count": 76,
   "metadata": {},
   "outputs": [
    {
     "name": "stdout",
     "output_type": "stream",
     "text": [
      "           n               name\n",
      "840374   1.0         Cary Grant\n",
      "343701   5.0     Leo G. Carroll\n",
      "642085  11.0  Robert Ellenstein\n",
      "447893  13.0    Philip Coolidge\n",
      "198496  15.0       Edward Binns\n"
     ]
    }
   ],
   "source": [
    "# Filter the DataFrame to find roles in the movie \"North by Northwest\"\n",
    "nbnw_cast = cast[(cast['title'] == 'North by Northwest') & cast['n'].notna()]\n",
    "\n",
    "# Sort the cast by their \"n\" values\n",
    "nbnw_cast_sorted = nbnw_cast.sort_values(by='n')\n",
    "\n",
    "# Display the cast in their correct \"n\"-value order\n",
    "print(nbnw_cast_sorted[['n', 'name']])\n"
   ]
  },
  {
   "cell_type": "markdown",
   "metadata": {
    "collapsed": true
   },
   "source": [
    "### Display the entire cast, in \"n\"-order, of the 1972 film \"Sleuth\"."
   ]
  },
  {
   "cell_type": "code",
   "execution_count": 77,
   "metadata": {},
   "outputs": [
    {
     "name": "stdout",
     "output_type": "stream",
     "text": [
      "          n            name\n",
      "314691  2.0   Michael Caine\n",
      "360365  3.0  Alec Cawthorne\n"
     ]
    }
   ],
   "source": [
    "# Filter the DataFrame to find roles in the movie \"Sleuth\" released in 1972\n",
    "sleuth_1972_cast = cast[(cast['title'] == 'Sleuth') & (cast['year'] == 1972) & cast['n'].notna()]\n",
    "\n",
    "# Sort the cast by their \"n\" values\n",
    "sleuth_1972_cast_sorted = sleuth_1972_cast.sort_values(by='n')\n",
    "\n",
    "# Display the entire cast in \"n\"-order\n",
    "print(sleuth_1972_cast_sorted[['n', 'name']])\n"
   ]
  },
  {
   "cell_type": "markdown",
   "metadata": {
    "collapsed": true
   },
   "source": [
    "### Now display the entire cast, in \"n\"-order, of the 2007 version of \"Sleuth\"."
   ]
  },
  {
   "cell_type": "code",
   "execution_count": 78,
   "metadata": {},
   "outputs": [
    {
     "name": "stdout",
     "output_type": "stream",
     "text": [
      "          n           name\n",
      "314692  1.0  Michael Caine\n"
     ]
    }
   ],
   "source": [
    "# Filter the DataFrame to find roles in the movie \"Sleuth\" released in 2007\n",
    "sleuth_2007_cast = cast[(cast['title'] == 'Sleuth') & (cast['year'] == 2007) & cast['n'].notna()]\n",
    "\n",
    "# Sort the cast by their \"n\" values\n",
    "sleuth_2007_cast_sorted = sleuth_2007_cast.sort_values(by='n')\n",
    "\n",
    "# Display the entire cast in \"n\"-order\n",
    "print(sleuth_2007_cast_sorted[['n', 'name']])\n"
   ]
  },
  {
   "cell_type": "markdown",
   "metadata": {
    "collapsed": true
   },
   "source": [
    "### How many roles were credited in the silent 1921 version of Hamlet?"
   ]
  },
  {
   "cell_type": "code",
   "execution_count": 80,
   "metadata": {},
   "outputs": [
    {
     "name": "stdout",
     "output_type": "stream",
     "text": [
      "How many roles were credited in the silent 1921 version of Hamlet? 0\n"
     ]
    }
   ],
   "source": [
    "# Filter the DataFrame to find roles in the silent 1921 version of \"Hamlet\"\n",
    "hamlet_1921_roles = cast[(cast['title'] == 'Hamlet') & (['year'] == 1921)]\n",
    "\n",
    "# Count the number of credited roles in the silent 1921 version of \"Hamlet\"\n",
    "num_hamlet_1921_roles = len(hamlet_1921_roles)\n",
    "\n",
    "# Print the result\n",
    "print(f\"How many roles were credited in the silent 1921 version of Hamlet? {num_hamlet_1921_roles}\")\n"
   ]
  },
  {
   "cell_type": "markdown",
   "metadata": {
    "collapsed": true
   },
   "source": [
    "### How many roles were credited in Branagh’s 1996 Hamlet?"
   ]
  },
  {
   "cell_type": "code",
   "execution_count": 81,
   "metadata": {},
   "outputs": [
    {
     "name": "stdout",
     "output_type": "stream",
     "text": [
      "How many roles were credited in Branagh's 1996 Hamlet? 1\n"
     ]
    }
   ],
   "source": [
    "# Filter the DataFrame to find credited roles in Branagh's 1996 version of \"Hamlet\"\n",
    "branagh_hamlet_roles = cast[(cast['title'] == 'Hamlet') & (cast['year'] == 1996) & (cast['name'] == 'Kenneth Branagh')]\n",
    "\n",
    "# Count the number of credited roles in Branagh's 1996 version of \"Hamlet\"\n",
    "num_branagh_hamlet_roles = len(branagh_hamlet_roles)\n",
    "\n",
    "# Print the result\n",
    "print(f\"How many roles were credited in Branagh's 1996 Hamlet? {num_branagh_hamlet_roles}\")\n"
   ]
  },
  {
   "cell_type": "markdown",
   "metadata": {
    "collapsed": true
   },
   "source": [
    "### How many \"Hamlet\" roles have been listed in all film credits through history?"
   ]
  },
  {
   "cell_type": "code",
   "execution_count": 82,
   "metadata": {},
   "outputs": [
    {
     "name": "stdout",
     "output_type": "stream",
     "text": [
      "How many 'Hamlet' roles have been listed in all film credits through history? 113\n"
     ]
    }
   ],
   "source": [
    "# Filter the DataFrame to find all roles in films titled \"Hamlet\"\n",
    "all_hamlet_roles = cast[cast['title'] == 'Hamlet']\n",
    "\n",
    "# Count the total number of \"Hamlet\" roles listed in film credits through history\n",
    "num_hamlet_roles = len(all_hamlet_roles)\n",
    "\n",
    "# Print the result\n",
    "print(f\"How many 'Hamlet' roles have been listed in all film credits through history? {num_hamlet_roles}\")\n"
   ]
  },
  {
   "cell_type": "code",
   "execution_count": null,
   "metadata": {
    "collapsed": true
   },
   "outputs": [],
   "source": []
  },
  {
   "cell_type": "markdown",
   "metadata": {
    "collapsed": true
   },
   "source": [
    "### How many people have played an \"Ophelia\"?"
   ]
  },
  {
   "cell_type": "code",
   "execution_count": 83,
   "metadata": {},
   "outputs": [
    {
     "name": "stdout",
     "output_type": "stream",
     "text": [
      "How many people have played an 'Ophelia'? 4\n"
     ]
    }
   ],
   "source": [
    "# Filter the DataFrame to find all roles played by individuals with the character name \"Ophelia\"\n",
    "ophelia_roles = cast[cast['character'] == 'Ophelia']\n",
    "\n",
    "# Count the number of unique individuals who have played the role of \"Ophelia\"\n",
    "num_ophelia_actors = len(ophelia_roles['name'].unique())\n",
    "\n",
    "# Print the result\n",
    "print(f\"How many people have played an 'Ophelia'? {num_ophelia_actors}\")\n"
   ]
  },
  {
   "cell_type": "markdown",
   "metadata": {
    "collapsed": true
   },
   "source": [
    "### How many people have played a role called \"The Dude\"?"
   ]
  },
  {
   "cell_type": "code",
   "execution_count": 84,
   "metadata": {
    "scrolled": true
   },
   "outputs": [
    {
     "name": "stdout",
     "output_type": "stream",
     "text": [
      "How many people have played a role called 'The Dude'? 6\n"
     ]
    }
   ],
   "source": [
    "# Filter the DataFrame to find all roles played by individuals with the character name \"The Dude\"\n",
    "the_dude_roles = cast[cast['character'] == 'The Dude']\n",
    "\n",
    "# Count the number of unique individuals who have played a role called \"The Dude\"\n",
    "num_the_dude_actors = len(the_dude_roles['name'].unique())\n",
    "\n",
    "# Print the result\n",
    "print(f\"How many people have played a role called 'The Dude'? {num_the_dude_actors}\")\n"
   ]
  },
  {
   "cell_type": "markdown",
   "metadata": {
    "collapsed": true
   },
   "source": [
    "### How many people have played a role called \"The Stranger\"?"
   ]
  },
  {
   "cell_type": "code",
   "execution_count": 87,
   "metadata": {},
   "outputs": [
    {
     "name": "stdout",
     "output_type": "stream",
     "text": [
      "How many people have played a role called 'The Stranger'? 80\n"
     ]
    }
   ],
   "source": [
    "# Filter the DataFrame to find all roles played by individuals with the character name \"The Dude\"\n",
    "the_Stranger_roles = cast[cast['character'] == 'The Stranger']\n",
    "\n",
    "# Count the number of unique individuals who have played a role called \"The Stranger\"\n",
    "num_the_Stranger_actors = len(the_Stranger_roles['name'].unique())\n",
    "\n",
    "# Print the result\n",
    "print(f\"How many people have played a role called 'The Stranger'? {num_the_Stranger_actors}\")"
   ]
  },
  {
   "cell_type": "markdown",
   "metadata": {
    "collapsed": true
   },
   "source": [
    "### How many roles has Sidney Poitier played throughout his career?"
   ]
  },
  {
   "cell_type": "code",
   "execution_count": 88,
   "metadata": {},
   "outputs": [
    {
     "name": "stdout",
     "output_type": "stream",
     "text": [
      "How many roles has Sidney Poitier played throughout his career? 0\n"
     ]
    }
   ],
   "source": [
    "# Filter the DataFrame to find all roles played by Sidney Poitier\n",
    "sidney_poitier_roles = cast[cast['name'] == 'Sidney Poitier']\n",
    "\n",
    "# Count the number of roles played by Sidney Poitier throughout his career\n",
    "num_sidney_poitier_roles = len(sidney_poitier_roles)\n",
    "\n",
    "# Print the result\n",
    "print(f\"How many roles has Sidney Poitier played throughout his career? {num_sidney_poitier_roles}\")\n"
   ]
  },
  {
   "cell_type": "code",
   "execution_count": null,
   "metadata": {
    "collapsed": true
   },
   "outputs": [],
   "source": []
  },
  {
   "cell_type": "markdown",
   "metadata": {
    "collapsed": true
   },
   "source": [
    "### How many roles has Judi Dench played?"
   ]
  },
  {
   "cell_type": "code",
   "execution_count": 89,
   "metadata": {},
   "outputs": [
    {
     "name": "stdout",
     "output_type": "stream",
     "text": [
      "How many roles has Judi Dench played? 0\n"
     ]
    }
   ],
   "source": [
    "# Filter the DataFrame to find all roles played by Judi Dench\n",
    "judi_dench_roles = cast[cast['name'] == 'Judi Dench']\n",
    "\n",
    "# Count the number of roles played by Judi Dench throughout her career\n",
    "num_judi_dench_roles = len(judi_dench_roles)\n",
    "\n",
    "# Print the result\n",
    "print(f\"How many roles has Judi Dench played? {num_judi_dench_roles}\")\n"
   ]
  },
  {
   "cell_type": "markdown",
   "metadata": {
    "collapsed": true
   },
   "source": [
    "### List the supporting roles (having n=2) played by Cary Grant in the 1940s, in order by year."
   ]
  },
  {
   "cell_type": "code",
   "execution_count": 90,
   "metadata": {},
   "outputs": [
    {
     "name": "stdout",
     "output_type": "stream",
     "text": [
      "        year             title\n",
      "840371  1940  My Favorite Wife\n",
      "840381  1941    Penny Serenade\n"
     ]
    }
   ],
   "source": [
    "# Filter the DataFrame to find supporting roles (n=2) played by Cary Grant in the 1940s\n",
    "cary_grant_supporting_roles = cast[(cast['name'] == 'Cary Grant') & (cast['n'] == 2) & (cast['year'] // 10 == 194)]\n",
    "\n",
    "# Sort the roles by year\n",
    "cary_grant_supporting_roles_sorted = cary_grant_supporting_roles.sort_values(by='year')\n",
    "\n",
    "# Display the supporting roles in order by year\n",
    "print(cary_grant_supporting_roles_sorted[['year', 'title']])\n"
   ]
  },
  {
   "cell_type": "code",
   "execution_count": null,
   "metadata": {
    "collapsed": true
   },
   "outputs": [],
   "source": []
  },
  {
   "cell_type": "markdown",
   "metadata": {
    "collapsed": true
   },
   "source": [
    "### List the leading roles that Cary Grant played in the 1940s in order by year."
   ]
  },
  {
   "cell_type": "code",
   "execution_count": 91,
   "metadata": {},
   "outputs": [
    {
     "name": "stdout",
     "output_type": "stream",
     "text": [
      "        year                                 title\n",
      "840397  1940               The Howards of Virginia\n",
      "840353  1940                       His Girl Friday\n",
      "840399  1940                The Philadelphia Story\n",
      "840386  1941                             Suspicion\n",
      "840401  1942                  The Talk of the Town\n",
      "840377  1942                 Once Upon a Honeymoon\n",
      "840344  1943                     Destination Tokyo\n",
      "840369  1943                             Mr. Lucky\n",
      "840370  1943                             Mr. Lucky\n",
      "840378  1944                      Once Upon a Time\n",
      "840336  1944                  Arsenic and Old Lace\n",
      "840373  1944             None But the Lonely Heart\n",
      "840372  1946                         Night and Day\n",
      "840375  1946                             Notorious\n",
      "840393  1947      The Bachelor and the Bobby-Soxer\n",
      "840394  1947                     The Bishop's Wife\n",
      "840368  1948  Mr. Blandings Builds His Dream House\n",
      "840348  1948          Every Girl Should Be Married\n",
      "840357  1949                I Was a Male War Bride\n"
     ]
    }
   ],
   "source": [
    "# Filter the DataFrame to find leading roles (n=1) played by Cary Grant in the 1940s\n",
    "cary_grant_leading_roles = cast[(cast['name'] == 'Cary Grant') & (cast['n'] == 1) & (cast['year'] // 10 == 194)]\n",
    "\n",
    "# Sort the roles by year\n",
    "cary_grant_leading_roles_sorted = cary_grant_leading_roles.sort_values(by='year')\n",
    "\n",
    "# Display the leading roles in order by year\n",
    "print(cary_grant_leading_roles_sorted[['year', 'title']])\n"
   ]
  },
  {
   "cell_type": "code",
   "execution_count": null,
   "metadata": {
    "collapsed": true
   },
   "outputs": [],
   "source": []
  },
  {
   "cell_type": "markdown",
   "metadata": {
    "collapsed": true
   },
   "source": [
    "### How many roles were available for actors in the 1950s?"
   ]
  },
  {
   "cell_type": "code",
   "execution_count": 92,
   "metadata": {},
   "outputs": [
    {
     "name": "stdout",
     "output_type": "stream",
     "text": [
      "How many roles were available for actors in the 1950s? 67706\n"
     ]
    }
   ],
   "source": [
    "# Filter the DataFrame to find roles from the 1950s\n",
    "roles_in_1950s = cast[(cast['year'] >= 1950) & (cast['year'] <= 1959)]\n",
    "\n",
    "# Count the number of roles available for actors in the 1950s\n",
    "num_roles_in_1950s = len(roles_in_1950s)\n",
    "\n",
    "# Print the result\n",
    "print(f\"How many roles were available for actors in the 1950s? {num_roles_in_1950s}\")\n"
   ]
  },
  {
   "cell_type": "code",
   "execution_count": null,
   "metadata": {
    "collapsed": true
   },
   "outputs": [],
   "source": []
  },
  {
   "cell_type": "markdown",
   "metadata": {
    "collapsed": true
   },
   "source": [
    "### How many roles were available for actresses in the 1950s?"
   ]
  },
  {
   "cell_type": "code",
   "execution_count": 93,
   "metadata": {},
   "outputs": [
    {
     "name": "stdout",
     "output_type": "stream",
     "text": [
      "How many roles were available for actresses in the 1950s? 0\n"
     ]
    }
   ],
   "source": [
    "# Filter the DataFrame to find roles played by actresses in the 1950s\n",
    "actress_roles_in_1950s = cast[(cast['year'] >= 1950) & (cast['year'] <= 1959) & (cast['type'] == 'actress')]\n",
    "\n",
    "# Count the number of roles available for actresses in the 1950s\n",
    "num_actress_roles_in_1950s = len(actress_roles_in_1950s)\n",
    "\n",
    "# Print the result\n",
    "print(f\"How many roles were available for actresses in the 1950s? {num_actress_roles_in_1950s}\")\n"
   ]
  },
  {
   "cell_type": "code",
   "execution_count": null,
   "metadata": {
    "collapsed": true
   },
   "outputs": [],
   "source": []
  },
  {
   "cell_type": "markdown",
   "metadata": {
    "collapsed": true
   },
   "source": [
    "### How many leading roles (n=1) were available from the beginning of film history through 1980?"
   ]
  },
  {
   "cell_type": "code",
   "execution_count": 94,
   "metadata": {},
   "outputs": [
    {
     "name": "stdout",
     "output_type": "stream",
     "text": [
      "How many leading roles (n=1) were available from the beginning of film history through 1980? 18968\n"
     ]
    }
   ],
   "source": [
    "# Filter the DataFrame to find leading roles (n=1) from the beginning of film history through 1980\n",
    "leading_roles_until_1980 = cast[(cast['n'] == 1) & (cast['year'] <= 1980)]\n",
    "\n",
    "# Count the number of leading roles available from the beginning of film history through 1980\n",
    "num_leading_roles_until_1980 = len(leading_roles_until_1980)\n",
    "\n",
    "# Print the result\n",
    "print(f\"How many leading roles (n=1) were available from the beginning of film history through 1980? {num_leading_roles_until_1980}\")\n"
   ]
  },
  {
   "cell_type": "code",
   "execution_count": null,
   "metadata": {
    "collapsed": true
   },
   "outputs": [],
   "source": []
  },
  {
   "cell_type": "markdown",
   "metadata": {
    "collapsed": true
   },
   "source": [
    "### How many non-leading roles were available through from the beginning of film history through 1980?"
   ]
  },
  {
   "cell_type": "code",
   "execution_count": 95,
   "metadata": {},
   "outputs": [
    {
     "name": "stdout",
     "output_type": "stream",
     "text": [
      "How many non-leading roles were available from the beginning of film history through 1980? 351862\n"
     ]
    }
   ],
   "source": [
    "# Filter the DataFrame to find non-leading roles (n other than 1) from the beginning of film history through 1980\n",
    "non_leading_roles_until_1980 = cast[(cast['n'] != 1) & (cast['year'] <= 1980)]\n",
    "\n",
    "# Count the number of non-leading roles available from the beginning of film history through 1980\n",
    "num_non_leading_roles_until_1980 = len(non_leading_roles_until_1980)\n",
    "\n",
    "# Print the result\n",
    "print(f\"How many non-leading roles were available from the beginning of film history through 1980? {num_non_leading_roles_until_1980}\")\n"
   ]
  },
  {
   "cell_type": "code",
   "execution_count": null,
   "metadata": {
    "collapsed": true
   },
   "outputs": [],
   "source": []
  },
  {
   "cell_type": "markdown",
   "metadata": {
    "collapsed": true
   },
   "source": [
    "### How many roles through 1980 were minor enough that they did not warrant a numeric \"n\" rank?"
   ]
  },
  {
   "cell_type": "code",
   "execution_count": 97,
   "metadata": {},
   "outputs": [
    {
     "name": "stdout",
     "output_type": "stream",
     "text": [
      "How many roles through 1980 were minor enough that they did not warrant a numeric 'n' rank? 149991\n"
     ]
    }
   ],
   "source": [
    "# Filter the DataFrame to find roles through 1980 with missing or NaN \"n\" values\n",
    "roles_without_n_rank_until_1980 = cast[(cast['n'].isna()) & (cast['year'] <= 1980)]\n",
    "\n",
    "# Count the number of roles without a numeric \"n\" rank through 1980\n",
    "num_roles_without_n_rank_until_1980 = len(roles_without_n_rank_until_1980)\n",
    "\n",
    "# Print the result\n",
    "print(f\"How many roles through 1980 were minor enough that they did not warrant a numeric 'n' rank? {num_roles_without_n_rank_until_1980}\")\n"
   ]
  }
 ],
 "metadata": {
  "kernelspec": {
   "display_name": "Python 3 (ipykernel)",
   "language": "python",
   "name": "python3"
  },
  "language_info": {
   "codemirror_mode": {
    "name": "ipython",
    "version": 3
   },
   "file_extension": ".py",
   "mimetype": "text/x-python",
   "name": "python",
   "nbconvert_exporter": "python",
   "pygments_lexer": "ipython3",
   "version": "3.11.4"
  }
 },
 "nbformat": 4,
 "nbformat_minor": 1
}
